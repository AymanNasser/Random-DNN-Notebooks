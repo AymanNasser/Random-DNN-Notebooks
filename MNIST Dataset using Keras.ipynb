{
  "nbformat": 4,
  "nbformat_minor": 0,
  "metadata": {
    "colab": {
      "name": "Exercise 3 - Question.ipynb",
      "provenance": [],
      "collapsed_sections": [],
      "toc_visible": true
    },
    "kernelspec": {
      "display_name": "Python 3",
      "name": "python3"
    },
    "accelerator": "GPU"
  },
  "cells": [
    {
      "cell_type": "code",
      "metadata": {
        "id": "zX4Kg8DUTKWO",
        "colab_type": "code",
        "colab": {}
      },
      "source": [
        "#@title Licensed under the Apache License, Version 2.0 (the \"License\");\n",
        "# you may not use this file except in compliance with the License.\n",
        "# You may obtain a copy of the License at\n",
        "#\n",
        "# https://www.apache.org/licenses/LICENSE-2.0\n",
        "#\n",
        "# Unless required by applicable law or agreed to in writing, software\n",
        "# distributed under the License is distributed on an \"AS IS\" BASIS,\n",
        "# WITHOUT WARRANTIES OR CONDITIONS OF ANY KIND, either express or implied.\n",
        "# See the License for the specific language governing permissions and\n",
        "# limitations under the License."
      ],
      "execution_count": 1,
      "outputs": []
    },
    {
      "cell_type": "markdown",
      "metadata": {
        "colab_type": "text",
        "id": "iQjHqsmTAVLU"
      },
      "source": [
        "## Importing libs\n"
      ]
    },
    {
      "cell_type": "code",
      "metadata": {
        "id": "3my7Sz2BVTDt",
        "colab_type": "code",
        "colab": {}
      },
      "source": [
        "import tensorflow as tf\n",
        "import numpy as np"
      ],
      "execution_count": 2,
      "outputs": []
    },
    {
      "cell_type": "markdown",
      "metadata": {
        "id": "_WFTlKigVy3t",
        "colab_type": "text"
      },
      "source": [
        "## Accuracy callback"
      ]
    },
    {
      "cell_type": "code",
      "metadata": {
        "id": "hvAlxu_bV3Md",
        "colab_type": "code",
        "colab": {}
      },
      "source": [
        "class Accuracy_callback(tf.keras.callbacks.Callback):\n",
        "    \n",
        "    def on_epoch_end(self,epoch,logs=None):\n",
        "        \n",
        "        current_acc = logs.get('acc')\n",
        "        if (current_acc != None) and (current_acc > 0.998):\n",
        "            print('\\nModel accuracy has passed optimum value')\n",
        "            self.model.stop_training = True"
      ],
      "execution_count": 3,
      "outputs": []
    },
    {
      "cell_type": "markdown",
      "metadata": {
        "id": "xBtsO4TDWw2i",
        "colab_type": "text"
      },
      "source": [
        "## Data Preprocessing & Model Definition"
      ]
    },
    {
      "cell_type": "code",
      "metadata": {
        "colab_type": "code",
        "id": "sfQRyaJWAIdg",
        "colab": {
          "base_uri": "https://localhost:8080/",
          "height": 425
        },
        "outputId": "28cf361c-927c-46b5-9b5b-3f89f04768b5"
      },
      "source": [
        "mnist = tf.keras.datasets.mnist\n",
        "(training_images, training_labels), (test_images, test_labels) = mnist.load_data()\n",
        "\n",
        "\n",
        "# Reshaping & normalizing the input\n",
        "training_images = training_images.reshape(60000,28,28,1)\n",
        "training_images = training_images / 255.0\n",
        "\n",
        "test_images = test_images.reshape(10000,28,28,1)\n",
        "test_images = test_images / 255.0\n",
        "\n",
        "acc_cb = Accuracy_callback()\n",
        "\n",
        "model = tf.keras.models.Sequential()\n",
        "model.add(tf.keras.layers.Conv2D(filters= 64, kernel_size = (3,3), strides=(1,1), padding='valid', use_bias = True,\n",
        "                                  activation='relu', input_shape=(28,28,1)))\n",
        "model.add(tf.keras.layers.MaxPool2D())\n",
        "model.add(tf.keras.layers.Flatten())\n",
        "model.add(tf.keras.layers.Dense(units=512, activation='relu'))\n",
        "model.add(tf.keras.layers.Dense(units=10, activation='softmax'))\n",
        "\n",
        "\n",
        "model.compile(optimizer=tf.keras.optimizers.Adam(), loss='sparse_categorical_crossentropy',\n",
        "              metrics=['accuracy'])\n",
        "# model fitting\n",
        "history = model.fit(training_images, training_labels, epochs=10, callbacks=[acc_cb], steps_per_epoch = 64)\n",
        "test_loss, test_acc = model.evaluate(test_images, test_labels)\n",
        "print('test_loss',test_loss, 'test_acc', test_acc)\n",
        "\n"
      ],
      "execution_count": 4,
      "outputs": [
        {
          "output_type": "stream",
          "text": [
            "Downloading data from https://storage.googleapis.com/tensorflow/tf-keras-datasets/mnist.npz\n",
            "11493376/11490434 [==============================] - 0s 0us/step\n",
            "Epoch 1/10\n",
            "64/64 [==============================] - 2s 23ms/step - loss: 0.3709 - accuracy: 0.8933\n",
            "Epoch 2/10\n",
            "64/64 [==============================] - 1s 22ms/step - loss: 0.1140 - accuracy: 0.9674\n",
            "Epoch 3/10\n",
            "64/64 [==============================] - 1s 22ms/step - loss: 0.0700 - accuracy: 0.9800\n",
            "Epoch 4/10\n",
            "64/64 [==============================] - 1s 22ms/step - loss: 0.0512 - accuracy: 0.9856\n",
            "Epoch 5/10\n",
            "64/64 [==============================] - 1s 22ms/step - loss: 0.0395 - accuracy: 0.9887\n",
            "Epoch 6/10\n",
            "64/64 [==============================] - 1s 22ms/step - loss: 0.0324 - accuracy: 0.9904\n",
            "Epoch 7/10\n",
            "64/64 [==============================] - 1s 22ms/step - loss: 0.0282 - accuracy: 0.9915\n",
            "Epoch 8/10\n",
            "64/64 [==============================] - 1s 22ms/step - loss: 0.0216 - accuracy: 0.9940\n",
            "Epoch 9/10\n",
            "64/64 [==============================] - 1s 22ms/step - loss: 0.0176 - accuracy: 0.9952\n",
            "Epoch 10/10\n",
            "64/64 [==============================] - 1s 22ms/step - loss: 0.0151 - accuracy: 0.9957\n",
            "313/313 [==============================] - 1s 2ms/step - loss: 0.0365 - accuracy: 0.9877\n",
            "test_loss 0.03650210425257683 test_acc 0.9876999855041504\n"
          ],
          "name": "stdout"
        }
      ]
    },
    {
      "cell_type": "code",
      "metadata": {
        "id": "LteJRYXMWK6B",
        "colab_type": "code",
        "colab": {}
      },
      "source": [
        ""
      ],
      "execution_count": 4,
      "outputs": []
    }
  ]
}