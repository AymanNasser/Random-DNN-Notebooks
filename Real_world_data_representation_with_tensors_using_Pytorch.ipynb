{
  "nbformat": 4,
  "nbformat_minor": 0,
  "metadata": {
    "colab": {
      "name": "Real-world data representation with tensors using Pytorch.ipynb",
      "provenance": [],
      "collapsed_sections": [],
      "toc_visible": true,
      "authorship_tag": "ABX9TyO/N7HMPyi6PuA4e9StQ/31",
      "include_colab_link": true
    },
    "kernelspec": {
      "name": "python3",
      "display_name": "Python 3"
    }
  },
  "cells": [
    {
      "cell_type": "markdown",
      "metadata": {
        "id": "view-in-github",
        "colab_type": "text"
      },
      "source": [
        "<a href=\"https://colab.research.google.com/github/AymanNasser/Random-DNN-Notebooks/blob/master/Real_world_data_representation_with_tensors_using_Pytorch.ipynb\" target=\"_parent\"><img src=\"https://colab.research.google.com/assets/colab-badge.svg\" alt=\"Open In Colab\"/></a>"
      ]
    },
    {
      "cell_type": "code",
      "metadata": {
        "id": "nYgkHQCT6hxh"
      },
      "source": [
        "import numpy as np\n",
        "import torch"
      ],
      "execution_count": 1,
      "outputs": []
    },
    {
      "cell_type": "markdown",
      "metadata": {
        "id": "kgeqb1P3QaYm"
      },
      "source": [
        "## Working with images"
      ]
    },
    {
      "cell_type": "code",
      "metadata": {
        "id": "SqdDx6jAQdbV"
      },
      "source": [
        "import imageio\n",
        "import os\n",
        "import torchvision\n",
        "from skimage.transform import resize\n",
        "from PIL import Image"
      ],
      "execution_count": 2,
      "outputs": []
    },
    {
      "cell_type": "code",
      "metadata": {
        "id": "Jn_7QyubRAWw",
        "outputId": "2dffe9d0-c5fa-4baa-fc95-1d290b50249f",
        "colab": {
          "base_uri": "https://localhost:8080/",
          "height": 34
        }
      },
      "source": [
        "img = imageio.imread('../tmp/Horse.png')\n",
        "img.shape"
      ],
      "execution_count": null,
      "outputs": [
        {
          "output_type": "execute_result",
          "data": {
            "text/plain": [
              "(576, 1024, 3)"
            ]
          },
          "metadata": {
            "tags": []
          },
          "execution_count": 30
        }
      ]
    },
    {
      "cell_type": "code",
      "metadata": {
        "id": "EyPthidBRMri",
        "outputId": "f9f78366-7e2f-46d3-d2a9-b5cd77572338",
        "colab": {
          "base_uri": "https://localhost:8080/",
          "height": 34
        }
      },
      "source": [
        "img_t = torch.from_numpy(img)\n",
        "img_t = img_t.permute(2,0,1) # permuting the tensor ==> channels * height * width\n",
        "img_t.shape"
      ],
      "execution_count": null,
      "outputs": [
        {
          "output_type": "execute_result",
          "data": {
            "text/plain": [
              "torch.Size([3, 576, 1024])"
            ]
          },
          "metadata": {
            "tags": []
          },
          "execution_count": 31
        }
      ]
    },
    {
      "cell_type": "code",
      "metadata": {
        "id": "ZNUdF5UYRirp",
        "outputId": "0f30ee29-3e9e-4dbe-92b4-fa0b3451be2d",
        "colab": {
          "base_uri": "https://localhost:8080/",
          "height": 1000
        }
      },
      "source": [
        "data_dir = '../tmp'\n",
        "filenames = [name for name in os.listdir(data_dir) if (os.path.splitext(name)[-1] == '.png') or \n",
        "                                                      (os.path.splitext(name)[-1] == '.jpg') or \n",
        "                                                      (os.path.splitext(name)[-1] == '.jpeg')]\n",
        "\n",
        "batch_size = len(filenames)\n",
        "batch = torch.zeros(batch_size, 3, 256, 256, dtype=torch.float32)\n",
        "\n",
        "for ite, filename in enumerate(filenames):\n",
        "  img = imageio.imread(os.path.join(data_dir,filename))\n",
        "  img = resize(img, (256,256)) # Info. lost due to resizing\n",
        "  img_t = torch.from_numpy(img).permute(2,0,1)\n",
        "  batch[ite] = img_t\n",
        "batch /= 255. # Normalizing \n",
        "batch\n"
      ],
      "execution_count": null,
      "outputs": [
        {
          "output_type": "execute_result",
          "data": {
            "text/plain": [
              "tensor([[[[0.0018, 0.0019, 0.0014,  ..., 0.0020, 0.0019, 0.0019],\n",
              "          [0.0016, 0.0017, 0.0013,  ..., 0.0019, 0.0019, 0.0018],\n",
              "          [0.0016, 0.0016, 0.0012,  ..., 0.0020, 0.0019, 0.0018],\n",
              "          ...,\n",
              "          [0.0026, 0.0022, 0.0020,  ..., 0.0023, 0.0019, 0.0028],\n",
              "          [0.0026, 0.0023, 0.0022,  ..., 0.0025, 0.0024, 0.0028],\n",
              "          [0.0025, 0.0023, 0.0023,  ..., 0.0021, 0.0023, 0.0024]],\n",
              "\n",
              "         [[0.0020, 0.0021, 0.0017,  ..., 0.0025, 0.0024, 0.0024],\n",
              "          [0.0018, 0.0019, 0.0016,  ..., 0.0025, 0.0024, 0.0024],\n",
              "          [0.0017, 0.0017, 0.0015,  ..., 0.0025, 0.0024, 0.0024],\n",
              "          ...,\n",
              "          [0.0029, 0.0027, 0.0025,  ..., 0.0029, 0.0026, 0.0033],\n",
              "          [0.0029, 0.0027, 0.0027,  ..., 0.0031, 0.0031, 0.0032],\n",
              "          [0.0030, 0.0028, 0.0027,  ..., 0.0027, 0.0030, 0.0029]],\n",
              "\n",
              "         [[0.0023, 0.0023, 0.0015,  ..., 0.0007, 0.0007, 0.0007],\n",
              "          [0.0021, 0.0021, 0.0014,  ..., 0.0007, 0.0007, 0.0007],\n",
              "          [0.0021, 0.0020, 0.0014,  ..., 0.0007, 0.0007, 0.0007],\n",
              "          ...,\n",
              "          [0.0017, 0.0008, 0.0005,  ..., 0.0018, 0.0014, 0.0024],\n",
              "          [0.0017, 0.0010, 0.0008,  ..., 0.0020, 0.0018, 0.0024],\n",
              "          [0.0018, 0.0012, 0.0010,  ..., 0.0014, 0.0013, 0.0017]]],\n",
              "\n",
              "\n",
              "        [[[0.0009, 0.0011, 0.0010,  ..., 0.0005, 0.0004, 0.0005],\n",
              "          [0.0010, 0.0012, 0.0010,  ..., 0.0005, 0.0005, 0.0005],\n",
              "          [0.0010, 0.0013, 0.0010,  ..., 0.0004, 0.0005, 0.0006],\n",
              "          ...,\n",
              "          [0.0028, 0.0022, 0.0019,  ..., 0.0013, 0.0026, 0.0028],\n",
              "          [0.0028, 0.0022, 0.0019,  ..., 0.0010, 0.0015, 0.0018],\n",
              "          [0.0027, 0.0021, 0.0017,  ..., 0.0009, 0.0009, 0.0008]],\n",
              "\n",
              "         [[0.0010, 0.0013, 0.0011,  ..., 0.0007, 0.0006, 0.0007],\n",
              "          [0.0011, 0.0014, 0.0011,  ..., 0.0007, 0.0007, 0.0007],\n",
              "          [0.0011, 0.0014, 0.0012,  ..., 0.0006, 0.0007, 0.0007],\n",
              "          ...,\n",
              "          [0.0023, 0.0017, 0.0015,  ..., 0.0016, 0.0028, 0.0030],\n",
              "          [0.0023, 0.0017, 0.0015,  ..., 0.0013, 0.0017, 0.0021],\n",
              "          [0.0022, 0.0016, 0.0013,  ..., 0.0011, 0.0011, 0.0011]],\n",
              "\n",
              "         [[0.0010, 0.0012, 0.0011,  ..., 0.0007, 0.0006, 0.0007],\n",
              "          [0.0011, 0.0014, 0.0012,  ..., 0.0007, 0.0007, 0.0007],\n",
              "          [0.0012, 0.0015, 0.0012,  ..., 0.0006, 0.0007, 0.0007],\n",
              "          ...,\n",
              "          [0.0020, 0.0015, 0.0013,  ..., 0.0017, 0.0029, 0.0030],\n",
              "          [0.0020, 0.0015, 0.0013,  ..., 0.0014, 0.0019, 0.0022],\n",
              "          [0.0020, 0.0015, 0.0012,  ..., 0.0013, 0.0013, 0.0013]]],\n",
              "\n",
              "\n",
              "        [[[0.0006, 0.0006, 0.0006,  ..., 0.0017, 0.0017, 0.0017],\n",
              "          [0.0006, 0.0006, 0.0006,  ..., 0.0017, 0.0018, 0.0018],\n",
              "          [0.0006, 0.0006, 0.0006,  ..., 0.0018, 0.0018, 0.0019],\n",
              "          ...,\n",
              "          [0.0024, 0.0024, 0.0025,  ..., 0.0024, 0.0013, 0.0015],\n",
              "          [0.0026, 0.0025, 0.0023,  ..., 0.0022, 0.0015, 0.0017],\n",
              "          [0.0027, 0.0027, 0.0023,  ..., 0.0017, 0.0017, 0.0019]],\n",
              "\n",
              "         [[0.0004, 0.0004, 0.0004,  ..., 0.0015, 0.0015, 0.0015],\n",
              "          [0.0004, 0.0004, 0.0004,  ..., 0.0015, 0.0015, 0.0016],\n",
              "          [0.0004, 0.0004, 0.0004,  ..., 0.0016, 0.0016, 0.0016],\n",
              "          ...,\n",
              "          [0.0022, 0.0021, 0.0022,  ..., 0.0021, 0.0012, 0.0014],\n",
              "          [0.0024, 0.0023, 0.0021,  ..., 0.0019, 0.0014, 0.0015],\n",
              "          [0.0026, 0.0025, 0.0021,  ..., 0.0014, 0.0016, 0.0016]],\n",
              "\n",
              "         [[0.0005, 0.0005, 0.0005,  ..., 0.0019, 0.0019, 0.0019],\n",
              "          [0.0005, 0.0005, 0.0005,  ..., 0.0019, 0.0019, 0.0019],\n",
              "          [0.0005, 0.0005, 0.0005,  ..., 0.0020, 0.0020, 0.0020],\n",
              "          ...,\n",
              "          [0.0010, 0.0008, 0.0010,  ..., 0.0012, 0.0005, 0.0007],\n",
              "          [0.0010, 0.0009, 0.0009,  ..., 0.0010, 0.0007, 0.0007],\n",
              "          [0.0010, 0.0010, 0.0009,  ..., 0.0006, 0.0007, 0.0006]]],\n",
              "\n",
              "\n",
              "        ...,\n",
              "\n",
              "\n",
              "        [[[0.0000, 0.0000, 0.0000,  ..., 0.0000, 0.0000, 0.0000],\n",
              "          [0.0000, 0.0000, 0.0000,  ..., 0.0000, 0.0000, 0.0000],\n",
              "          [0.0000, 0.0000, 0.0000,  ..., 0.0000, 0.0000, 0.0000],\n",
              "          ...,\n",
              "          [0.0000, 0.0000, 0.0000,  ..., 0.0000, 0.0000, 0.0000],\n",
              "          [0.0000, 0.0000, 0.0000,  ..., 0.0000, 0.0000, 0.0000],\n",
              "          [0.0000, 0.0000, 0.0000,  ..., 0.0000, 0.0000, 0.0000]],\n",
              "\n",
              "         [[0.0000, 0.0000, 0.0000,  ..., 0.0000, 0.0000, 0.0000],\n",
              "          [0.0000, 0.0000, 0.0000,  ..., 0.0000, 0.0000, 0.0000],\n",
              "          [0.0000, 0.0000, 0.0000,  ..., 0.0000, 0.0000, 0.0000],\n",
              "          ...,\n",
              "          [0.0000, 0.0000, 0.0000,  ..., 0.0000, 0.0000, 0.0000],\n",
              "          [0.0000, 0.0000, 0.0000,  ..., 0.0000, 0.0000, 0.0000],\n",
              "          [0.0000, 0.0000, 0.0000,  ..., 0.0000, 0.0000, 0.0000]],\n",
              "\n",
              "         [[0.0000, 0.0000, 0.0000,  ..., 0.0000, 0.0000, 0.0000],\n",
              "          [0.0000, 0.0000, 0.0000,  ..., 0.0000, 0.0000, 0.0000],\n",
              "          [0.0000, 0.0000, 0.0000,  ..., 0.0000, 0.0000, 0.0000],\n",
              "          ...,\n",
              "          [0.0000, 0.0000, 0.0000,  ..., 0.0000, 0.0000, 0.0000],\n",
              "          [0.0000, 0.0000, 0.0000,  ..., 0.0000, 0.0000, 0.0000],\n",
              "          [0.0000, 0.0000, 0.0000,  ..., 0.0000, 0.0000, 0.0000]]],\n",
              "\n",
              "\n",
              "        [[[0.0032, 0.0031, 0.0031,  ..., 0.0018, 0.0018, 0.0018],\n",
              "          [0.0031, 0.0031, 0.0031,  ..., 0.0017, 0.0017, 0.0017],\n",
              "          [0.0030, 0.0030, 0.0031,  ..., 0.0017, 0.0016, 0.0017],\n",
              "          ...,\n",
              "          [0.0021, 0.0022, 0.0024,  ..., 0.0022, 0.0026, 0.0026],\n",
              "          [0.0023, 0.0023, 0.0023,  ..., 0.0022, 0.0025, 0.0026],\n",
              "          [0.0024, 0.0023, 0.0024,  ..., 0.0021, 0.0025, 0.0027]],\n",
              "\n",
              "         [[0.0033, 0.0033, 0.0032,  ..., 0.0023, 0.0023, 0.0022],\n",
              "          [0.0033, 0.0032, 0.0032,  ..., 0.0022, 0.0022, 0.0022],\n",
              "          [0.0032, 0.0032, 0.0032,  ..., 0.0022, 0.0022, 0.0021],\n",
              "          ...,\n",
              "          [0.0017, 0.0018, 0.0019,  ..., 0.0017, 0.0021, 0.0021],\n",
              "          [0.0018, 0.0018, 0.0018,  ..., 0.0018, 0.0021, 0.0022],\n",
              "          [0.0019, 0.0018, 0.0019,  ..., 0.0017, 0.0020, 0.0022]],\n",
              "\n",
              "         [[0.0035, 0.0034, 0.0035,  ..., 0.0030, 0.0030, 0.0030],\n",
              "          [0.0035, 0.0035, 0.0035,  ..., 0.0030, 0.0030, 0.0030],\n",
              "          [0.0035, 0.0035, 0.0035,  ..., 0.0030, 0.0030, 0.0030],\n",
              "          ...,\n",
              "          [0.0007, 0.0007, 0.0009,  ..., 0.0007, 0.0011, 0.0011],\n",
              "          [0.0008, 0.0008, 0.0009,  ..., 0.0008, 0.0011, 0.0012],\n",
              "          [0.0009, 0.0008, 0.0010,  ..., 0.0007, 0.0010, 0.0012]]],\n",
              "\n",
              "\n",
              "        [[[0.0007, 0.0007, 0.0007,  ..., 0.0007, 0.0007, 0.0007],\n",
              "          [0.0007, 0.0007, 0.0007,  ..., 0.0011, 0.0009, 0.0007],\n",
              "          [0.0007, 0.0007, 0.0007,  ..., 0.0011, 0.0010, 0.0007],\n",
              "          ...,\n",
              "          [0.0034, 0.0029, 0.0024,  ..., 0.0033, 0.0033, 0.0033],\n",
              "          [0.0033, 0.0034, 0.0032,  ..., 0.0033, 0.0033, 0.0033],\n",
              "          [0.0032, 0.0032, 0.0033,  ..., 0.0032, 0.0032, 0.0032]],\n",
              "\n",
              "         [[0.0007, 0.0007, 0.0007,  ..., 0.0008, 0.0007, 0.0007],\n",
              "          [0.0007, 0.0007, 0.0007,  ..., 0.0018, 0.0012, 0.0007],\n",
              "          [0.0007, 0.0007, 0.0007,  ..., 0.0019, 0.0017, 0.0008],\n",
              "          ...,\n",
              "          [0.0034, 0.0033, 0.0031,  ..., 0.0033, 0.0033, 0.0033],\n",
              "          [0.0033, 0.0035, 0.0035,  ..., 0.0033, 0.0033, 0.0033],\n",
              "          [0.0032, 0.0032, 0.0033,  ..., 0.0032, 0.0032, 0.0032]],\n",
              "\n",
              "         [[0.0007, 0.0007, 0.0007,  ..., 0.0007, 0.0007, 0.0007],\n",
              "          [0.0007, 0.0007, 0.0007,  ..., 0.0016, 0.0012, 0.0007],\n",
              "          [0.0007, 0.0007, 0.0007,  ..., 0.0018, 0.0015, 0.0007],\n",
              "          ...,\n",
              "          [0.0033, 0.0024, 0.0016,  ..., 0.0033, 0.0033, 0.0033],\n",
              "          [0.0033, 0.0033, 0.0029,  ..., 0.0033, 0.0033, 0.0033],\n",
              "          [0.0032, 0.0032, 0.0033,  ..., 0.0032, 0.0032, 0.0032]]]])"
            ]
          },
          "metadata": {
            "tags": []
          },
          "execution_count": 51
        }
      ]
    },
    {
      "cell_type": "markdown",
      "metadata": {
        "id": "0U5GmRL7c4c4"
      },
      "source": [
        "## Working with tabular data"
      ]
    },
    {
      "cell_type": "code",
      "metadata": {
        "id": "2CVd_tNiTnas"
      },
      "source": [
        "import pandas as pd"
      ],
      "execution_count": 3,
      "outputs": []
    },
    {
      "cell_type": "code",
      "metadata": {
        "id": "H3_0aLRne4V7",
        "outputId": "b38b0ea6-524e-475f-8519-c61cd3c357ae",
        "colab": {
          "base_uri": "https://localhost:8080/",
          "height": 340
        }
      },
      "source": [
        "data_path = '../tmp/winequality-white.csv'\n",
        "df = pd.read_csv(data_path, delimiter = ';')\n",
        "df.head(), df.describe()"
      ],
      "execution_count": 4,
      "outputs": [
        {
          "output_type": "execute_result",
          "data": {
            "text/plain": [
              "(   fixed acidity  volatile acidity  citric acid  ...  sulphates  alcohol  quality\n",
              " 0            7.0              0.27         0.36  ...       0.45      8.8        6\n",
              " 1            6.3              0.30         0.34  ...       0.49      9.5        6\n",
              " 2            8.1              0.28         0.40  ...       0.44     10.1        6\n",
              " 3            7.2              0.23         0.32  ...       0.40      9.9        6\n",
              " 4            7.2              0.23         0.32  ...       0.40      9.9        6\n",
              " \n",
              " [5 rows x 12 columns],\n",
              "        fixed acidity  volatile acidity  ...      alcohol      quality\n",
              " count    4898.000000       4898.000000  ...  4898.000000  4898.000000\n",
              " mean        6.854788          0.278241  ...    10.514267     5.877909\n",
              " std         0.843868          0.100795  ...     1.230621     0.885639\n",
              " min         3.800000          0.080000  ...     8.000000     3.000000\n",
              " 25%         6.300000          0.210000  ...     9.500000     5.000000\n",
              " 50%         6.800000          0.260000  ...    10.400000     6.000000\n",
              " 75%         7.300000          0.320000  ...    11.400000     6.000000\n",
              " max        14.200000          1.100000  ...    14.200000     9.000000\n",
              " \n",
              " [8 rows x 12 columns])"
            ]
          },
          "metadata": {
            "tags": []
          },
          "execution_count": 4
        }
      ]
    },
    {
      "cell_type": "code",
      "metadata": {
        "id": "DioaHsALAODJ",
        "outputId": "62134d27-9391-485f-cbdd-35ab5c750db2",
        "colab": {
          "base_uri": "https://localhost:8080/",
          "height": 85
        }
      },
      "source": [
        "cols_names = df.columns\n",
        "cols_names"
      ],
      "execution_count": 30,
      "outputs": [
        {
          "output_type": "execute_result",
          "data": {
            "text/plain": [
              "Index(['fixed acidity', 'volatile acidity', 'citric acid', 'residual sugar',\n",
              "       'chlorides', 'free sulfur dioxide', 'total sulfur dioxide', 'density',\n",
              "       'pH', 'sulphates', 'alcohol', 'quality'],\n",
              "      dtype='object')"
            ]
          },
          "metadata": {
            "tags": []
          },
          "execution_count": 30
        }
      ]
    },
    {
      "cell_type": "code",
      "metadata": {
        "id": "nrqGj-0LfEk-",
        "outputId": "19a4385d-b054-4a24-c3da-19b0fadb06f7",
        "colab": {
          "base_uri": "https://localhost:8080/",
          "height": 153
        }
      },
      "source": [
        "wine_np = np.loadtxt(data_path, dtype=np.float32, delimiter=';', skiprows=1)\n",
        "wine_np, wine_np.shape"
      ],
      "execution_count": 8,
      "outputs": [
        {
          "output_type": "execute_result",
          "data": {
            "text/plain": [
              "(array([[ 7.  ,  0.27,  0.36, ...,  0.45,  8.8 ,  6.  ],\n",
              "        [ 6.3 ,  0.3 ,  0.34, ...,  0.49,  9.5 ,  6.  ],\n",
              "        [ 8.1 ,  0.28,  0.4 , ...,  0.44, 10.1 ,  6.  ],\n",
              "        ...,\n",
              "        [ 6.5 ,  0.24,  0.19, ...,  0.46,  9.4 ,  6.  ],\n",
              "        [ 5.5 ,  0.29,  0.3 , ...,  0.38, 12.8 ,  7.  ],\n",
              "        [ 6.  ,  0.21,  0.38, ...,  0.32, 11.8 ,  6.  ]], dtype=float32),\n",
              " (4898, 12))"
            ]
          },
          "metadata": {
            "tags": []
          },
          "execution_count": 8
        }
      ]
    },
    {
      "cell_type": "code",
      "metadata": {
        "id": "U7R8oxWIfqLV",
        "outputId": "7a13a07a-c307-4a48-9f7f-8069eae06770",
        "colab": {
          "base_uri": "https://localhost:8080/",
          "height": 187
        }
      },
      "source": [
        "tensor_df_ = torch.from_numpy(wine_np)\n",
        "tensor_df_[:-1], tensor_df_[-1], tensor_df_.shape"
      ],
      "execution_count": 9,
      "outputs": [
        {
          "output_type": "execute_result",
          "data": {
            "text/plain": [
              "(tensor([[ 7.0000,  0.2700,  0.3600,  ...,  0.4500,  8.8000,  6.0000],\n",
              "         [ 6.3000,  0.3000,  0.3400,  ...,  0.4900,  9.5000,  6.0000],\n",
              "         [ 8.1000,  0.2800,  0.4000,  ...,  0.4400, 10.1000,  6.0000],\n",
              "         ...,\n",
              "         [ 6.6000,  0.3200,  0.3600,  ...,  0.4600,  9.6000,  5.0000],\n",
              "         [ 6.5000,  0.2400,  0.1900,  ...,  0.4600,  9.4000,  6.0000],\n",
              "         [ 5.5000,  0.2900,  0.3000,  ...,  0.3800, 12.8000,  7.0000]]),\n",
              " tensor([6.0000e+00, 2.1000e-01, 3.8000e-01, 8.0000e-01, 2.0000e-02, 2.2000e+01,\n",
              "         9.8000e+01, 9.8941e-01, 3.2600e+00, 3.2000e-01, 1.1800e+01, 6.0000e+00]),\n",
              " torch.Size([4898, 12]))"
            ]
          },
          "metadata": {
            "tags": []
          },
          "execution_count": 9
        }
      ]
    },
    {
      "cell_type": "code",
      "metadata": {
        "id": "xtskDv-BgEhH",
        "outputId": "761fe092-2f7f-429a-a0d5-25fddff75f68",
        "colab": {
          "base_uri": "https://localhost:8080/",
          "height": 34
        }
      },
      "source": [
        "X = tensor_df_[:, :-1] # data\n",
        "y = tensor_df_[:, -1].to(dtype=torch.int32) # labels\n",
        "X.shape, y.shape"
      ],
      "execution_count": 11,
      "outputs": [
        {
          "output_type": "execute_result",
          "data": {
            "text/plain": [
              "(torch.Size([4898, 11]), torch.Size([4898]))"
            ]
          },
          "metadata": {
            "tags": []
          },
          "execution_count": 11
        }
      ]
    },
    {
      "cell_type": "code",
      "metadata": {
        "id": "allC2xGLiPWQ",
        "outputId": "02f88228-38e6-49e0-e7cf-db4bc9d5f0f0",
        "colab": {
          "base_uri": "https://localhost:8080/",
          "height": 34
        }
      },
      "source": [
        "y_unsqz = y.unsqueeze(1)\n",
        "y_unsqz.shape"
      ],
      "execution_count": 12,
      "outputs": [
        {
          "output_type": "execute_result",
          "data": {
            "text/plain": [
              "torch.Size([4898, 1])"
            ]
          },
          "metadata": {
            "tags": []
          },
          "execution_count": 12
        }
      ]
    },
    {
      "cell_type": "markdown",
      "metadata": {
        "id": "HcDDN9C17f_f"
      },
      "source": [
        "#### PyTorch Tensor API to manipulate our data in tensor form"
      ]
    },
    {
      "cell_type": "code",
      "metadata": {
        "id": "l-h7Ra7WjX3d",
        "outputId": "012e7f3d-1e29-44cb-d40f-8e98838c5ce4",
        "colab": {
          "base_uri": "https://localhost:8080/",
          "height": 85
        }
      },
      "source": [
        " torch.mean(X, dim=0), torch.std(X, dim=0)"
      ],
      "execution_count": 14,
      "outputs": [
        {
          "output_type": "execute_result",
          "data": {
            "text/plain": [
              "(tensor([6.8548e+00, 2.7824e-01, 3.3419e-01, 6.3914e+00, 4.5772e-02, 3.5308e+01,\n",
              "         1.3836e+02, 9.9403e-01, 3.1883e+00, 4.8985e-01, 1.0514e+01]),\n",
              " tensor([8.4387e-01, 1.0079e-01, 1.2102e-01, 5.0721e+00, 2.1848e-02, 1.7007e+01,\n",
              "         4.2498e+01, 2.9909e-03, 1.5100e-01, 1.1413e-01, 1.2306e+00]))"
            ]
          },
          "metadata": {
            "tags": []
          },
          "execution_count": 14
        }
      ]
    },
    {
      "cell_type": "code",
      "metadata": {
        "id": "Fe-SHr5R7wmq",
        "outputId": "bde188fa-a868-4763-fef2-29ab06313115",
        "colab": {
          "base_uri": "https://localhost:8080/",
          "height": 34
        }
      },
      "source": [
        "bad_indicies = y <= 3\n",
        "bad_indicies.shape"
      ],
      "execution_count": 24,
      "outputs": [
        {
          "output_type": "execute_result",
          "data": {
            "text/plain": [
              "torch.Size([4898])"
            ]
          },
          "metadata": {
            "tags": []
          },
          "execution_count": 24
        }
      ]
    },
    {
      "cell_type": "code",
      "metadata": {
        "id": "pV41iVuD8Wtm",
        "outputId": "87ee229d-d438-41bf-fa39-65c793f528a8",
        "colab": {
          "base_uri": "https://localhost:8080/",
          "height": 34
        }
      },
      "source": [
        "pretty_data, bad_data = X[ ~ (bad_indicies) ], X[ bad_indicies ]\n",
        "pretty_data.shape, bad_data.shape"
      ],
      "execution_count": 28,
      "outputs": [
        {
          "output_type": "execute_result",
          "data": {
            "text/plain": [
              "(torch.Size([4878, 11]), torch.Size([20, 11]))"
            ]
          },
          "metadata": {
            "tags": []
          },
          "execution_count": 28
        }
      ]
    },
    {
      "cell_type": "markdown",
      "metadata": {
        "id": "hJp97XFj_97Q"
      },
      "source": [
        "## Working with time series"
      ]
    },
    {
      "cell_type": "code",
      "metadata": {
        "id": "2vYopAEH__MM",
        "outputId": "266b35ba-a36d-4014-88cc-5ec68e9ff07f",
        "colab": {
          "base_uri": "https://localhost:8080/",
          "height": 408
        }
      },
      "source": [
        "bike_df = pd.read_csv('../tmp/hour.csv')\n",
        "bike_df.head(), bike_df.describe(), bike_df.columns"
      ],
      "execution_count": 32,
      "outputs": [
        {
          "output_type": "execute_result",
          "data": {
            "text/plain": [
              "(   instant      dteday  season  yr  ...  windspeed  casual  registered  cnt\n",
              " 0        1  2011-01-01       1   0  ...        0.0       3          13   16\n",
              " 1        2  2011-01-01       1   0  ...        0.0       8          32   40\n",
              " 2        3  2011-01-01       1   0  ...        0.0       5          27   32\n",
              " 3        4  2011-01-01       1   0  ...        0.0       3          10   13\n",
              " 4        5  2011-01-01       1   0  ...        0.0       0           1    1\n",
              " \n",
              " [5 rows x 17 columns],\n",
              "           instant        season  ...    registered           cnt\n",
              " count  17379.0000  17379.000000  ...  17379.000000  17379.000000\n",
              " mean    8690.0000      2.501640  ...    153.786869    189.463088\n",
              " std     5017.0295      1.106918  ...    151.357286    181.387599\n",
              " min        1.0000      1.000000  ...      0.000000      1.000000\n",
              " 25%     4345.5000      2.000000  ...     34.000000     40.000000\n",
              " 50%     8690.0000      3.000000  ...    115.000000    142.000000\n",
              " 75%    13034.5000      3.000000  ...    220.000000    281.000000\n",
              " max    17379.0000      4.000000  ...    886.000000    977.000000\n",
              " \n",
              " [8 rows x 16 columns],\n",
              " Index(['instant', 'dteday', 'season', 'yr', 'mnth', 'hr', 'holiday', 'weekday',\n",
              "        'workingday', 'weathersit', 'temp', 'atemp', 'hum', 'windspeed',\n",
              "        'casual', 'registered', 'cnt'],\n",
              "       dtype='object'))"
            ]
          },
          "metadata": {
            "tags": []
          },
          "execution_count": 32
        }
      ]
    },
    {
      "cell_type": "code",
      "metadata": {
        "id": "VJokHdpQCwGU"
      },
      "source": [
        ""
      ],
      "execution_count": null,
      "outputs": []
    }
  ]
}