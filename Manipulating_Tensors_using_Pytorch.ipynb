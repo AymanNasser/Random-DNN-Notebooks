{
  "nbformat": 4,
  "nbformat_minor": 0,
  "metadata": {
    "colab": {
      "name": "Manipulating Tensors using Pytorch.ipynb",
      "provenance": [],
      "collapsed_sections": [],
      "authorship_tag": "ABX9TyMVAwcDEpOMK2mBK0uknHDt",
      "include_colab_link": true
    },
    "kernelspec": {
      "name": "python3",
      "display_name": "Python 3"
    },
    "accelerator": "GPU"
  },
  "cells": [
    {
      "cell_type": "markdown",
      "metadata": {
        "id": "view-in-github",
        "colab_type": "text"
      },
      "source": [
        "<a href=\"https://colab.research.google.com/github/AymanNasser/Random-DNN-Notebooks/blob/master/Manipulating_Tensors_using_Pytorch.ipynb\" target=\"_parent\"><img src=\"https://colab.research.google.com/assets/colab-badge.svg\" alt=\"Open In Colab\"/></a>"
      ]
    },
    {
      "cell_type": "code",
      "metadata": {
        "id": "Lkx2B-5rKSt4",
        "colab_type": "code",
        "colab": {}
      },
      "source": [
        "import numpy as np\n",
        "import torch"
      ],
      "execution_count": 1,
      "outputs": []
    },
    {
      "cell_type": "code",
      "metadata": {
        "id": "E6B8r5opKgFa",
        "colab_type": "code",
        "colab": {
          "base_uri": "https://localhost:8080/",
          "height": 34
        },
        "outputId": "1950db1f-d3e1-49a0-b3e4-b519f3ba4519"
      },
      "source": [
        "a = torch.ones(5) # Creates a one-dimensional tensor of size 5 filled with 1s\n",
        "a"
      ],
      "execution_count": 2,
      "outputs": [
        {
          "output_type": "execute_result",
          "data": {
            "text/plain": [
              "tensor([1., 1., 1., 1., 1.])"
            ]
          },
          "metadata": {
            "tags": []
          },
          "execution_count": 2
        }
      ]
    },
    {
      "cell_type": "code",
      "metadata": {
        "id": "_mHyDPomK7zL",
        "colab_type": "code",
        "colab": {
          "base_uri": "https://localhost:8080/",
          "height": 34
        },
        "outputId": "82f624e0-24c1-4066-b806-82a9420c7023"
      },
      "source": [
        "a[0], a[1]"
      ],
      "execution_count": 3,
      "outputs": [
        {
          "output_type": "execute_result",
          "data": {
            "text/plain": [
              "(tensor(1.), tensor(1.))"
            ]
          },
          "metadata": {
            "tags": []
          },
          "execution_count": 3
        }
      ]
    },
    {
      "cell_type": "code",
      "metadata": {
        "id": "dbmkDCtDK_7C",
        "colab_type": "code",
        "colab": {
          "base_uri": "https://localhost:8080/",
          "height": 34
        },
        "outputId": "81ff6753-fdb8-4997-d4a7-70fa1fe22171"
      },
      "source": [
        "a[3] = 5.5\n",
        "a"
      ],
      "execution_count": 4,
      "outputs": [
        {
          "output_type": "execute_result",
          "data": {
            "text/plain": [
              "tensor([1.0000, 1.0000, 1.0000, 5.5000, 1.0000])"
            ]
          },
          "metadata": {
            "tags": []
          },
          "execution_count": 4
        }
      ]
    },
    {
      "cell_type": "code",
      "metadata": {
        "id": "vUPJiFKCLR84",
        "colab_type": "code",
        "colab": {
          "base_uri": "https://localhost:8080/",
          "height": 34
        },
        "outputId": "ab1cbfe5-7526-409a-8655-37e4325b0c4c"
      },
      "source": [
        "points = torch.zeros(6)\n",
        "points[0] = 4.0\n",
        "points[1] = 1.0\n",
        "points[2] = 5.0\n",
        "points[3] = 3.0\n",
        "points[4] = 2.0\n",
        "points[5] = 1.0\n",
        "points"
      ],
      "execution_count": 5,
      "outputs": [
        {
          "output_type": "execute_result",
          "data": {
            "text/plain": [
              "tensor([4., 1., 5., 3., 2., 1.])"
            ]
          },
          "metadata": {
            "tags": []
          },
          "execution_count": 5
        }
      ]
    },
    {
      "cell_type": "code",
      "metadata": {
        "id": "BL_1D00rMdyl",
        "colab_type": "code",
        "colab": {
          "base_uri": "https://localhost:8080/",
          "height": 68
        },
        "outputId": "af611827-288e-49c9-fa34-2541ab8c5eb7"
      },
      "source": [
        "# Equivalent to the above is a 2d tensor\n",
        "points = torch.tensor([[4,1], [5,3], [2,1]])\n",
        "points"
      ],
      "execution_count": 6,
      "outputs": [
        {
          "output_type": "execute_result",
          "data": {
            "text/plain": [
              "tensor([[4, 1],\n",
              "        [5, 3],\n",
              "        [2, 1]])"
            ]
          },
          "metadata": {
            "tags": []
          },
          "execution_count": 6
        }
      ]
    },
    {
      "cell_type": "code",
      "metadata": {
        "id": "lvfbRvDDMnzR",
        "colab_type": "code",
        "colab": {
          "base_uri": "https://localhost:8080/",
          "height": 34
        },
        "outputId": "1075d626-d9fa-40e7-f9dc-46f3dc8d3f7c"
      },
      "source": [
        "points.shape"
      ],
      "execution_count": 7,
      "outputs": [
        {
          "output_type": "execute_result",
          "data": {
            "text/plain": [
              "torch.Size([3, 2])"
            ]
          },
          "metadata": {
            "tags": []
          },
          "execution_count": 7
        }
      ]
    },
    {
      "cell_type": "code",
      "metadata": {
        "id": "5uN7ow6_M9X5",
        "colab_type": "code",
        "colab": {
          "base_uri": "https://localhost:8080/",
          "height": 34
        },
        "outputId": "e7daca2f-7d8c-45af-edf8-ba125113ed39"
      },
      "source": [
        "points[1,0]"
      ],
      "execution_count": 8,
      "outputs": [
        {
          "output_type": "execute_result",
          "data": {
            "text/plain": [
              "tensor(5)"
            ]
          },
          "metadata": {
            "tags": []
          },
          "execution_count": 8
        }
      ]
    },
    {
      "cell_type": "code",
      "metadata": {
        "id": "G2Aok5cXNMmM",
        "colab_type": "code",
        "colab": {
          "base_uri": "https://localhost:8080/",
          "height": 34
        },
        "outputId": "eb806733-ab88-4e59-96d7-fda6d12b9003"
      },
      "source": [
        "print(points[1:-1, :])"
      ],
      "execution_count": 9,
      "outputs": [
        {
          "output_type": "stream",
          "text": [
            "tensor([[5, 3]])\n"
          ],
          "name": "stdout"
        }
      ]
    },
    {
      "cell_type": "code",
      "metadata": {
        "id": "tSlSvvsjOLqJ",
        "colab_type": "code",
        "colab": {
          "base_uri": "https://localhost:8080/",
          "height": 306
        },
        "outputId": "b5fd5c38-81b8-451b-b0f6-94debe8ded98"
      },
      "source": [
        "img_t = torch.rand(3, 5, 5) \n",
        "batch_t = torch.rand(2, 3, 5, 5) # Batch of imgs of size=2, each is 5*5*3 \n",
        "img_t"
      ],
      "execution_count": 10,
      "outputs": [
        {
          "output_type": "execute_result",
          "data": {
            "text/plain": [
              "tensor([[[0.4756, 0.3359, 0.9558, 0.9558, 0.1215],\n",
              "         [0.0064, 0.5420, 0.8185, 0.5226, 0.2910],\n",
              "         [0.5894, 0.4047, 0.9764, 0.0067, 0.4743],\n",
              "         [0.7389, 0.8112, 0.9802, 0.7731, 0.0292],\n",
              "         [0.3993, 0.2816, 0.9524, 0.9879, 0.2918]],\n",
              "\n",
              "        [[0.7887, 0.8138, 0.2113, 0.8741, 0.0376],\n",
              "         [0.5451, 0.2126, 0.0823, 0.4024, 0.9436],\n",
              "         [0.8451, 0.8789, 0.8004, 0.1067, 0.1491],\n",
              "         [0.6406, 0.7792, 0.8999, 0.8131, 0.7497],\n",
              "         [0.6626, 0.8595, 0.8575, 0.9736, 0.0260]],\n",
              "\n",
              "        [[0.1753, 0.9689, 0.5058, 0.5736, 0.4672],\n",
              "         [0.9552, 0.0085, 0.0208, 0.8564, 0.1550],\n",
              "         [0.9215, 0.5382, 0.5493, 0.9721, 0.0100],\n",
              "         [0.1022, 0.8956, 0.8128, 0.6681, 0.5530],\n",
              "         [0.9909, 0.4911, 0.9395, 0.9721, 0.0028]]])"
            ]
          },
          "metadata": {
            "tags": []
          },
          "execution_count": 10
        }
      ]
    },
    {
      "cell_type": "code",
      "metadata": {
        "id": "-0xUe7Y1ZKsM",
        "colab_type": "code",
        "colab": {
          "base_uri": "https://localhost:8080/",
          "height": 323
        },
        "outputId": "5af620e2-b257-447a-9c81-0bf24b9f9406"
      },
      "source": [
        "img_gray_naive = img_t.mean(-3) # same as img_t.mean(0) ==> taking the mean across the third dim from the end (-3)\n",
        "batch_gray_naive = batch_t.mean(-3)\n",
        "img_gray_naive.shape, batch_gray_naive.shape, img_gray_naive, batch_gray_naive"
      ],
      "execution_count": 11,
      "outputs": [
        {
          "output_type": "execute_result",
          "data": {
            "text/plain": [
              "(torch.Size([5, 5]),\n",
              " torch.Size([2, 5, 5]),\n",
              " tensor([[0.4799, 0.7062, 0.5576, 0.8012, 0.2088],\n",
              "         [0.5023, 0.2544, 0.3072, 0.5938, 0.4632],\n",
              "         [0.7853, 0.6073, 0.7754, 0.3618, 0.2111],\n",
              "         [0.4939, 0.8287, 0.8976, 0.7514, 0.4440],\n",
              "         [0.6843, 0.5441, 0.9165, 0.9779, 0.1069]]),\n",
              " tensor([[[0.3575, 0.5528, 0.6358, 0.6757, 0.5824],\n",
              "          [0.6371, 0.4494, 0.5726, 0.2751, 0.3590],\n",
              "          [0.5034, 0.7195, 0.7356, 0.5577, 0.4852],\n",
              "          [0.5164, 0.3467, 0.5698, 0.2778, 0.4152],\n",
              "          [0.6978, 0.2657, 0.6832, 0.7044, 0.5556]],\n",
              " \n",
              "         [[0.3906, 0.6033, 0.8199, 0.4297, 0.5586],\n",
              "          [0.5236, 0.4384, 0.5302, 0.5059, 0.4634],\n",
              "          [0.5382, 0.4344, 0.6601, 0.5368, 0.7892],\n",
              "          [0.4723, 0.6268, 0.4513, 0.6048, 0.6598],\n",
              "          [0.2104, 0.6823, 0.5254, 0.5049, 0.4356]]]))"
            ]
          },
          "metadata": {
            "tags": []
          },
          "execution_count": 11
        }
      ]
    },
    {
      "cell_type": "code",
      "metadata": {
        "id": "L4VmwgsJZxBk",
        "colab_type": "code",
        "colab": {
          "base_uri": "https://localhost:8080/",
          "height": 51
        },
        "outputId": "476af0ff-41cc-4b4e-a0e2-f8423bfeb512"
      },
      "source": [
        "weights = torch.tensor([0.2126, 0.7152, 0.0722])\n",
        "unsquez_weights = weights.unsqueeze(-1) # Expanding the tensor dim\n",
        "print(unsquez_weights.shape)\n",
        "unsquez_weights = unsquez_weights.unsqueeze(-1)\n",
        "print(unsquez_weights.shape)"
      ],
      "execution_count": 12,
      "outputs": [
        {
          "output_type": "stream",
          "text": [
            "torch.Size([3, 1])\n",
            "torch.Size([3, 1, 1])\n"
          ],
          "name": "stdout"
        }
      ]
    },
    {
      "cell_type": "code",
      "metadata": {
        "id": "7JETd1iDbruf",
        "colab_type": "code",
        "colab": {
          "base_uri": "https://localhost:8080/",
          "height": 306
        },
        "outputId": "99720b4b-44b6-4bc8-8c27-14c7566b3a95"
      },
      "source": [
        "img_weights = img_t * unsquez_weights\n",
        "img_weights"
      ],
      "execution_count": 13,
      "outputs": [
        {
          "output_type": "execute_result",
          "data": {
            "text/plain": [
              "tensor([[[1.0112e-01, 7.1413e-02, 2.0320e-01, 2.0320e-01, 2.5840e-02],\n",
              "         [1.3592e-03, 1.1524e-01, 1.7402e-01, 1.1111e-01, 6.1867e-02],\n",
              "         [1.2531e-01, 8.6042e-02, 2.0759e-01, 1.4203e-03, 1.0084e-01],\n",
              "         [1.5708e-01, 1.7246e-01, 2.0839e-01, 1.6436e-01, 6.2087e-03],\n",
              "         [8.4894e-02, 5.9870e-02, 2.0248e-01, 2.1002e-01, 6.2035e-02]],\n",
              "\n",
              "        [[5.6406e-01, 5.8202e-01, 1.5115e-01, 6.2517e-01, 2.6896e-02],\n",
              "         [3.8989e-01, 1.5203e-01, 5.8885e-02, 2.8783e-01, 6.7483e-01],\n",
              "         [6.0440e-01, 6.2859e-01, 5.7245e-01, 7.6278e-02, 1.0665e-01],\n",
              "         [4.5815e-01, 5.5730e-01, 6.4363e-01, 5.8153e-01, 5.3618e-01],\n",
              "         [4.7388e-01, 6.1471e-01, 6.1325e-01, 6.9633e-01, 1.8594e-02]],\n",
              "\n",
              "        [[1.2658e-02, 6.9955e-02, 3.6517e-02, 4.1410e-02, 3.3733e-02],\n",
              "         [6.8968e-02, 6.1609e-04, 1.5048e-03, 6.1830e-02, 1.1191e-02],\n",
              "         [6.6534e-02, 3.8860e-02, 3.9661e-02, 7.0188e-02, 7.2127e-04],\n",
              "         [7.3769e-03, 6.4661e-02, 5.8687e-02, 4.8236e-02, 3.9927e-02],\n",
              "         [7.1540e-02, 3.5460e-02, 6.7835e-02, 7.0186e-02, 2.0117e-04]]])"
            ]
          },
          "metadata": {
            "tags": []
          },
          "execution_count": 13
        }
      ]
    },
    {
      "cell_type": "code",
      "metadata": {
        "id": "sntBBNWocFn_",
        "colab_type": "code",
        "colab": {
          "base_uri": "https://localhost:8080/",
          "height": 629
        },
        "outputId": "bd0c5a55-eaab-4cb6-984e-7ab6274960a2"
      },
      "source": [
        "batch_weights = (batch_t * unsquez_weights) # Although unsquez_weights tensor isn't in the same dim of batch_t tensor, but due to broadcasting, multiplication occurred\n",
        "batch_weights"
      ],
      "execution_count": 14,
      "outputs": [
        {
          "output_type": "execute_result",
          "data": {
            "text/plain": [
              "tensor([[[[1.4671e-01, 1.7176e-01, 1.6440e-01, 8.3075e-02, 1.9023e-01],\n",
              "          [9.9797e-02, 1.9790e-01, 2.0549e-01, 5.5336e-02, 7.6109e-02],\n",
              "          [9.8548e-02, 1.4793e-01, 1.9543e-01, 1.4980e-01, 5.4685e-02],\n",
              "          [1.1226e-01, 1.7315e-01, 1.9314e-01, 6.7793e-02, 1.1163e-01],\n",
              "          [1.6469e-01, 1.4282e-01, 1.2361e-01, 1.4363e-01, 1.0322e-01]],\n",
              "\n",
              "         [[3.0554e-02, 1.5185e-01, 2.6183e-01, 5.9956e-01, 7.1257e-02],\n",
              "          [6.6595e-01, 2.6085e-01, 2.5928e-01, 2.1291e-01, 1.0365e-01],\n",
              "          [4.3571e-01, 5.1213e-01, 7.1280e-01, 5.8461e-01, 4.7884e-01],\n",
              "          [5.1426e-01, 3.4083e-02, 6.2519e-02, 1.9352e-01, 4.8383e-01],\n",
              "          [3.8983e-01, 8.5108e-02, 6.2120e-01, 6.3947e-01, 1.9056e-01]],\n",
              "\n",
              "         [[2.4538e-02, 4.6072e-02, 5.5459e-02, 5.7623e-02, 5.4354e-02],\n",
              "          [3.6874e-02, 3.7994e-03, 2.8058e-02, 1.9304e-02, 4.1439e-02],\n",
              "          [3.1580e-02, 5.3898e-02, 2.1007e-02, 1.0906e-02, 3.8186e-02],\n",
              "          [2.1815e-02, 1.2857e-02, 5.1524e-02, 1.7615e-02, 3.1758e-03],\n",
              "          [5.5866e-02, 4.5354e-04, 4.3281e-02, 3.9245e-02, 6.6045e-02]]],\n",
              "\n",
              "\n",
              "        [[[9.4350e-02, 1.5317e-01, 1.5084e-01, 3.4739e-02, 1.6005e-01],\n",
              "          [8.7405e-02, 4.4833e-02, 1.4307e-01, 1.8046e-01, 1.1108e-01],\n",
              "          [1.3765e-01, 9.3845e-02, 1.7275e-01, 9.8683e-02, 2.0342e-01],\n",
              "          [1.6371e-01, 1.4541e-01, 3.7857e-02, 1.8589e-01, 2.0213e-01],\n",
              "          [2.9829e-02, 2.0462e-01, 9.3189e-02, 1.2172e-02, 2.4427e-02]],\n",
              "\n",
              "         [[4.8880e-01, 4.5007e-01, 6.2910e-01, 3.0057e-01, 3.8489e-01],\n",
              "          [1.6849e-01, 7.0807e-01, 2.2539e-01, 3.9388e-01, 4.1827e-01],\n",
              "          [5.5755e-01, 5.4188e-01, 5.9727e-01, 5.1396e-01, 4.5667e-01],\n",
              "          [4.0635e-01, 6.1711e-01, 4.0685e-01, 2.3311e-01, 4.2053e-02],\n",
              "          [2.8470e-01, 3.3745e-01, 5.9542e-01, 3.3106e-01, 6.3014e-01]],\n",
              "\n",
              "         [[3.2237e-03, 3.3227e-02, 6.2866e-02, 5.0933e-02, 2.7787e-02],\n",
              "          [6.6711e-02, 8.2459e-03, 4.3498e-02, 8.5315e-03, 2.0426e-02],\n",
              "          [1.3548e-02, 7.5276e-03, 2.4018e-02, 3.0869e-02, 5.5764e-02],\n",
              "          [5.6900e-03, 2.4092e-02, 4.3829e-02, 4.4341e-02, 7.0014e-02],\n",
              "          [6.6978e-03, 4.4238e-02, 2.2044e-02, 7.1801e-02, 2.2438e-02]]]])"
            ]
          },
          "metadata": {
            "tags": []
          },
          "execution_count": 14
        }
      ]
    },
    {
      "cell_type": "code",
      "metadata": {
        "id": "-Ky5QuxicJfQ",
        "colab_type": "code",
        "colab": {
          "base_uri": "https://localhost:8080/",
          "height": 88
        },
        "outputId": "e2ecc6fb-2c36-47fa-8d2b-1e57c2cc915a"
      },
      "source": [
        "random_tens = torch.tensor([4,4,2,5], names=['channels']) # Naming a tensor\n",
        "random_tens"
      ],
      "execution_count": 15,
      "outputs": [
        {
          "output_type": "stream",
          "text": [
            "/usr/local/lib/python3.6/dist-packages/ipykernel_launcher.py:1: UserWarning: Named tensors and all their associated APIs are an experimental feature and subject to change. Please do not use them for anything important until they are released as stable. (Triggered internally at  /pytorch/c10/core/TensorImpl.h:840.)\n",
            "  \"\"\"Entry point for launching an IPython kernel.\n"
          ],
          "name": "stderr"
        },
        {
          "output_type": "execute_result",
          "data": {
            "text/plain": [
              "tensor([4, 4, 2, 5], names=('channels',))"
            ]
          },
          "metadata": {
            "tags": []
          },
          "execution_count": 15
        }
      ]
    },
    {
      "cell_type": "code",
      "metadata": {
        "id": "ZHa0mgmSdLiT",
        "colab_type": "code",
        "colab": {
          "base_uri": "https://localhost:8080/",
          "height": 34
        },
        "outputId": "2fb254f8-36fc-4b53-fe36-6bba6d278f21"
      },
      "source": [
        "random_tens.dtype"
      ],
      "execution_count": 16,
      "outputs": [
        {
          "output_type": "execute_result",
          "data": {
            "text/plain": [
              "torch.int64"
            ]
          },
          "metadata": {
            "tags": []
          },
          "execution_count": 16
        }
      ]
    },
    {
      "cell_type": "code",
      "metadata": {
        "id": "SDrgixjulIEC",
        "colab_type": "code",
        "colab": {
          "base_uri": "https://localhost:8080/",
          "height": 34
        },
        "outputId": "f3f6c7b1-f638-41cf-b1ed-00c1736ff862"
      },
      "source": [
        "random_tens = torch.zeros(10,2).to(dtype=torch.float32)\n",
        "random_tens.dtype"
      ],
      "execution_count": 17,
      "outputs": [
        {
          "output_type": "execute_result",
          "data": {
            "text/plain": [
              "torch.float32"
            ]
          },
          "metadata": {
            "tags": []
          },
          "execution_count": 17
        }
      ]
    },
    {
      "cell_type": "code",
      "metadata": {
        "id": "jcuQ5Pf_lPvf",
        "colab_type": "code",
        "colab": {
          "base_uri": "https://localhost:8080/",
          "height": 34
        },
        "outputId": "b25a8421-2699-40be-cb81-9c48030afad1"
      },
      "source": [
        "random_tens.storage_offset(), random_tens.size(), random_tens.stride()"
      ],
      "execution_count": 18,
      "outputs": [
        {
          "output_type": "execute_result",
          "data": {
            "text/plain": [
              "(0, torch.Size([10, 2]), (2, 1))"
            ]
          },
          "metadata": {
            "tags": []
          },
          "execution_count": 18
        }
      ]
    },
    {
      "cell_type": "code",
      "metadata": {
        "id": "PXpmQti6qYy7",
        "colab_type": "code",
        "colab": {
          "base_uri": "https://localhost:8080/",
          "height": 68
        },
        "outputId": "935fec44-1201-44dc-f2ae-19c30dea3397"
      },
      "source": [
        "points_gpu = torch.tensor([[4.0, 1.0], [5.0, 3.0], [2.0, 1.0]], device='cuda')\n",
        "points_gpu"
      ],
      "execution_count": 24,
      "outputs": [
        {
          "output_type": "execute_result",
          "data": {
            "text/plain": [
              "tensor([[4., 1.],\n",
              "        [5., 3.],\n",
              "        [2., 1.]], device='cuda:0')"
            ]
          },
          "metadata": {
            "tags": []
          },
          "execution_count": 24
        }
      ]
    },
    {
      "cell_type": "code",
      "metadata": {
        "id": "5JjR0fCJxslv",
        "colab_type": "code",
        "colab": {
          "base_uri": "https://localhost:8080/",
          "height": 68
        },
        "outputId": "1173931f-fbf7-4e8a-ba56-74460bf9eb19"
      },
      "source": [
        "points_cpu = points_gpu.to(device='cpu')\n",
        "points_cpu"
      ],
      "execution_count": 26,
      "outputs": [
        {
          "output_type": "execute_result",
          "data": {
            "text/plain": [
              "tensor([[4., 1.],\n",
              "        [5., 3.],\n",
              "        [2., 1.]])"
            ]
          },
          "metadata": {
            "tags": []
          },
          "execution_count": 26
        }
      ]
    },
    {
      "cell_type": "code",
      "metadata": {
        "id": "F4V1SO4oyHsd",
        "colab_type": "code",
        "colab": {
          "base_uri": "https://localhost:8080/",
          "height": 68
        },
        "outputId": "f9556ee5-091d-4e54-ad54-a6ae16bf2fa0"
      },
      "source": [
        "numpy_arr = np.array([[1., 1., 1., 1.],\n",
        "                     [1., 5., 5., 1.],\n",
        "                     [1., 2., 2., 1.]])\n",
        "numpy_arr"
      ],
      "execution_count": 32,
      "outputs": [
        {
          "output_type": "execute_result",
          "data": {
            "text/plain": [
              "array([[1., 1., 1., 1.],\n",
              "       [1., 5., 5., 1.],\n",
              "       [1., 2., 2., 1.]])"
            ]
          },
          "metadata": {
            "tags": []
          },
          "execution_count": 32
        }
      ]
    },
    {
      "cell_type": "code",
      "metadata": {
        "id": "D2pwAbPgzcmg",
        "colab_type": "code",
        "colab": {
          "base_uri": "https://localhost:8080/",
          "height": 68
        },
        "outputId": "6f1f10a7-5738-4d94-fa59-25a6bd24df6d"
      },
      "source": [
        "tensor_ = torch.from_numpy(numpy_arr).to(dtype=torch.float32).to(device='cuda') # Converting a numpy array to a torch tensor then moving the tensor on the GPU\n",
        "tensor_"
      ],
      "execution_count": 37,
      "outputs": [
        {
          "output_type": "execute_result",
          "data": {
            "text/plain": [
              "tensor([[1., 1., 1., 1.],\n",
              "        [1., 5., 5., 1.],\n",
              "        [1., 2., 2., 1.]], device='cuda:0')"
            ]
          },
          "metadata": {
            "tags": []
          },
          "execution_count": 37
        }
      ]
    },
    {
      "cell_type": "code",
      "metadata": {
        "id": "AcyxzP611EtA",
        "colab_type": "code",
        "colab": {}
      },
      "source": [
        "torch.save(tensor_, '../tmp/tensor.t') # Saving our tensor "
      ],
      "execution_count": 38,
      "outputs": []
    },
    {
      "cell_type": "code",
      "metadata": {
        "id": "L_0LgHrs3Nl7",
        "colab_type": "code",
        "colab": {
          "base_uri": "https://localhost:8080/",
          "height": 68
        },
        "outputId": "94a95661-1460-4e21-db65-9667644cca19"
      },
      "source": [
        "tensor_again_ = torch.load('../tmp/tensor.t')\n",
        "tensor_again_"
      ],
      "execution_count": 39,
      "outputs": [
        {
          "output_type": "execute_result",
          "data": {
            "text/plain": [
              "tensor([[1., 1., 1., 1.],\n",
              "        [1., 5., 5., 1.],\n",
              "        [1., 2., 2., 1.]], device='cuda:0')"
            ]
          },
          "metadata": {
            "tags": []
          },
          "execution_count": 39
        }
      ]
    },
    {
      "cell_type": "code",
      "metadata": {
        "id": "GQmwMPt53ZVP",
        "colab_type": "code",
        "colab": {
          "base_uri": "https://localhost:8080/",
          "height": 493
        },
        "outputId": "71ac852f-82a5-4530-914c-1e37adec5220"
      },
      "source": [
        "b = tensor_.view(4,3)\n",
        "b, b.storage(), tensor_.storage()"
      ],
      "execution_count": 49,
      "outputs": [
        {
          "output_type": "execute_result",
          "data": {
            "text/plain": [
              "(tensor([[1., 1., 1.],\n",
              "         [1., 1., 5.],\n",
              "         [5., 1., 1.],\n",
              "         [2., 2., 1.]], device='cuda:0'),  1.0\n",
              "  1.0\n",
              "  1.0\n",
              "  1.0\n",
              "  1.0\n",
              "  5.0\n",
              "  5.0\n",
              "  1.0\n",
              "  1.0\n",
              "  2.0\n",
              "  2.0\n",
              "  1.0\n",
              " [torch.cuda.FloatStorage of size 12],  1.0\n",
              "  1.0\n",
              "  1.0\n",
              "  1.0\n",
              "  1.0\n",
              "  5.0\n",
              "  5.0\n",
              "  1.0\n",
              "  1.0\n",
              "  2.0\n",
              "  2.0\n",
              "  1.0\n",
              " [torch.cuda.FloatStorage of size 12])"
            ]
          },
          "metadata": {
            "tags": []
          },
          "execution_count": 49
        }
      ]
    },
    {
      "cell_type": "code",
      "metadata": {
        "id": "3bhsh4T731s3",
        "colab_type": "code",
        "colab": {
          "base_uri": "https://localhost:8080/",
          "height": 34
        },
        "outputId": "fb622e25-e307-4f4e-aca7-a24a9a47496c"
      },
      "source": [
        "b = torch.cos(torch.tensor([0.9]))\n",
        "b"
      ],
      "execution_count": 51,
      "outputs": [
        {
          "output_type": "execute_result",
          "data": {
            "text/plain": [
              "tensor([0.6216])"
            ]
          },
          "metadata": {
            "tags": []
          },
          "execution_count": 51
        }
      ]
    },
    {
      "cell_type": "code",
      "metadata": {
        "id": "2x7Kte3E6EOA",
        "colab_type": "code",
        "colab": {}
      },
      "source": [
        ""
      ],
      "execution_count": null,
      "outputs": []
    }
  ]
}